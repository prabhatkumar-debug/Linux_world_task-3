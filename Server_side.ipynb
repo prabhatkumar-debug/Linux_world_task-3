{
 "cells": [
  {
   "cell_type": "code",
   "execution_count": null,
   "id": "working-finance",
   "metadata": {},
   "outputs": [],
   "source": [
    "import socket \n",
    "import threading\n",
    "import cv2\n",
    "import numpy as np\n",
    "import struct\n",
    "import pickle"
   ]
  },
  {
   "cell_type": "code",
   "execution_count": null,
   "id": "angry-protection",
   "metadata": {},
   "outputs": [],
   "source": [
    "s = socket.socket()\n",
    "s.setsockopt(socket.SOL_SOCKET , socket.SO_REUSEADDR, 1)"
   ]
  },
  {
   "cell_type": "code",
   "execution_count": null,
   "id": "rotary-consensus",
   "metadata": {},
   "outputs": [],
   "source": [
    "Port = 2021\n",
    "Host = \"\""
   ]
  },
  {
   "cell_type": "code",
   "execution_count": null,
   "id": "metallic-implementation",
   "metadata": {},
   "outputs": [],
   "source": [
    "print(\" PRABHAT KUMAR \")"
   ]
  },
  {
   "cell_type": "code",
   "execution_count": null,
   "id": "hungry-syria",
   "metadata": {},
   "outputs": [],
   "source": [
    "s.bind((Host,Port))\n",
    "print(\"  WORKING \")"
   ]
  },
  {
   "cell_type": "code",
   "execution_count": null,
   "id": "filled-howard",
   "metadata": {},
   "outputs": [],
   "source": [
    "\n",
    "s.listen()\n",
    "print(\" WORKING \")"
   ]
  },
  {
   "cell_type": "code",
   "execution_count": null,
   "id": "distinguished-delicious",
   "metadata": {},
   "outputs": [],
   "source": [
    "conn,addr=s.accept()"
   ]
  },
  {
   "cell_type": "code",
   "execution_count": null,
   "id": "upset-smile",
   "metadata": {},
   "outputs": [],
   "source": [
    "# Data Transfer\n",
    "data = b\"\"\n",
    "payload_size = struct.calcsize(\">L\")"
   ]
  },
  {
   "cell_type": "code",
   "execution_count": null,
   "id": "cognitive-selection",
   "metadata": {},
   "outputs": [],
   "source": [
    "\n",
    "while True:\n",
    "    while len(data) < payload_size:\n",
    "        print(\"Recv: {}\".format(len(data)))\n",
    "        data += conn.recv(10)\n",
    "        \n",
    "    print(\"Done Recv: {}\".format(len(data)))\n",
    "    packed_msg_size = data[:payload_size]\n",
    "    data = data[payload_size:]\n",
    "    msg_size = struct.unpack(\">L\", packed_msg_size)[0]\n",
    "    print(\"msg_size: {}\".format(msg_size))\n",
    "    \n",
    "    while len(data) < msg_size:\n",
    "        data += conn.recv(10)\n",
    "    frame_data = data[:msg_size]\n",
    "    data = data[msg_size:]\n",
    "    frame=pickle.loads(frame_data, fix_imports=True, encoding=\"bytes\")\n",
    "    frame = cv2.imdecode(frame, cv2.IMREAD_COLOR)\n",
    "    cv2.imshow('Server',frame)\n",
    "    if cv2.waitKey(1) & 0xff==ord(\"q\"):\n",
    "        cv2.destroyAllWindows()\n",
    "        cam.release()\n",
    "        s.close()"
   ]
  },
  {
   "cell_type": "code",
   "execution_count": null,
   "id": "diverse-edward",
   "metadata": {},
   "outputs": [],
   "source": [
    "cam.release()"
   ]
  },
  {
   "cell_type": "code",
   "execution_count": null,
   "id": "oriented-kingston",
   "metadata": {},
   "outputs": [],
   "source": []
  },
  {
   "cell_type": "code",
   "execution_count": null,
   "id": "eastern-approach",
   "metadata": {},
   "outputs": [],
   "source": []
  },
  {
   "cell_type": "code",
   "execution_count": null,
   "id": "awful-garden",
   "metadata": {},
   "outputs": [],
   "source": []
  },
  {
   "cell_type": "code",
   "execution_count": null,
   "id": "greatest-affair",
   "metadata": {},
   "outputs": [],
   "source": []
  },
  {
   "cell_type": "code",
   "execution_count": null,
   "id": "animal-begin",
   "metadata": {},
   "outputs": [],
   "source": []
  },
  {
   "cell_type": "code",
   "execution_count": null,
   "id": "noticed-summit",
   "metadata": {},
   "outputs": [],
   "source": []
  },
  {
   "cell_type": "code",
   "execution_count": null,
   "id": "prime-atmosphere",
   "metadata": {},
   "outputs": [],
   "source": []
  }
 ],
 "metadata": {
  "kernelspec": {
   "display_name": "Python 3",
   "language": "python",
   "name": "python3"
  },
  "language_info": {
   "codemirror_mode": {
    "name": "ipython",
    "version": 3
   },
   "file_extension": ".py",
   "mimetype": "text/x-python",
   "name": "python",
   "nbconvert_exporter": "python",
   "pygments_lexer": "ipython3",
   "version": "3.9.2"
  }
 },
 "nbformat": 4,
 "nbformat_minor": 5
}
